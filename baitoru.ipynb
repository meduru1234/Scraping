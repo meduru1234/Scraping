{
 "cells": [
  {
   "cell_type": "code",
   "execution_count": 154,
   "id": "9fd98eea",
   "metadata": {},
   "outputs": [],
   "source": [
    "from selenium import webdriver\n",
    "from selenium.webdriver.common.by import By\n",
    "from selenium.webdriver.chrome.options import Options\n",
    "from time import sleep\n",
    "import pandas as pd"
   ]
  },
  {
   "cell_type": "code",
   "execution_count": 158,
   "id": "19f3bda3",
   "metadata": {},
   "outputs": [],
   "source": [
    "# headless mode\n",
    "options = Options()\n",
    "options.add_argument('--headless')"
   ]
  },
  {
   "cell_type": "code",
   "execution_count": 159,
   "id": "f5bd1d12",
   "metadata": {},
   "outputs": [],
   "source": [
    "# launch a chrome and baitoru\n",
    "browser = webdriver.Chrome(options=options)\n",
    "\n",
    "url = 'https://www.baitoru.com/tokai/jlist/aichi/mikawaarea/toyotashi/'\n",
    "browser.get(url)\n",
    "sleep(4)"
   ]
  },
  {
   "cell_type": "code",
   "execution_count": 160,
   "id": "98af31da",
   "metadata": {},
   "outputs": [
    {
     "name": "stdout",
     "output_type": "stream",
     "text": [
      "やりたい仕事を入力データ入力\n"
     ]
    }
   ],
   "source": [
    "# enter words in the free word\n",
    "free_word = browser.find_element(\"id\", \"fwrd\")\n",
    "search_jobs = input('やりたい仕事を入力')\n",
    "\n",
    "# enter the search_jobs word in the free word field\n",
    "free_word.send_keys(search_jobs)\n",
    "\n",
    "# click enter\n",
    "search_jobs_btn = browser.find_element(\"id\", \"js-search-fwrd-submit\")\n",
    "search_jobs_btn.click()"
   ]
  },
  {
   "cell_type": "code",
   "execution_count": 161,
   "id": "8ff21c4a",
   "metadata": {},
   "outputs": [],
   "source": [
    "# get job titles and enter the list\n",
    "job_titles = []\n",
    "title_of_jobs = browser.find_elements(By.CSS_SELECTOR, \".li01 h3 a span\")\n",
    "for title_of_job in title_of_jobs:\n",
    "    job_title = title_of_job.text\n",
    "    job_titles.append(job_title)"
   ]
  },
  {
   "cell_type": "code",
   "execution_count": 162,
   "id": "c0ea8506",
   "metadata": {},
   "outputs": [],
   "source": [
    "df = pd.DataFrame()\n",
    "df['題名'] = job_titles"
   ]
  },
  {
   "cell_type": "code",
   "execution_count": 163,
   "id": "b92f1def",
   "metadata": {},
   "outputs": [
    {
     "data": {
      "text/html": [
       "<div>\n",
       "<style scoped>\n",
       "    .dataframe tbody tr th:only-of-type {\n",
       "        vertical-align: middle;\n",
       "    }\n",
       "\n",
       "    .dataframe tbody tr th {\n",
       "        vertical-align: top;\n",
       "    }\n",
       "\n",
       "    .dataframe thead th {\n",
       "        text-align: right;\n",
       "    }\n",
       "</style>\n",
       "<table border=\"1\" class=\"dataframe\">\n",
       "  <thead>\n",
       "    <tr style=\"text-align: right;\">\n",
       "      <th></th>\n",
       "      <th>題名</th>\n",
       "    </tr>\n",
       "  </thead>\n",
       "  <tbody>\n",
       "    <tr>\n",
       "      <th>0</th>\n",
       "      <td>免許取得後も練習で見直し。何回もおさらいして安心発進/運転手</td>\n",
       "    </tr>\n",
       "    <tr>\n",
       "      <th>1</th>\n",
       "      <td>子育て中のママさん活躍中＊定時退社可◎/ブランクOK│製造事務</td>\n",
       "    </tr>\n",
       "    <tr>\n",
       "      <th>2</th>\n",
       "      <td>無期雇用実績ありで長く働ける大手！在宅あり◆サポート事務◎</td>\n",
       "    </tr>\n",
       "    <tr>\n",
       "      <th>3</th>\n",
       "      <td>★化学品商社★正社員前提！賞与４回有り！受注処理など！</td>\n",
       "    </tr>\n",
       "    <tr>\n",
       "      <th>4</th>\n",
       "      <td>時短！ピタッと１２時まで！時間の相談可能★大手で伝票処理など</td>\n",
       "    </tr>\n",
       "    <tr>\n",
       "      <th>5</th>\n",
       "      <td>１７時半まで／部内書類仕分けなどの事務／未経験チャレンジＯＫ</td>\n",
       "    </tr>\n",
       "    <tr>\n",
       "      <th>6</th>\n",
       "      <td>高時給2300円～＊レアな求人★憧れの有名企業でのCAD設計</td>\n",
       "    </tr>\n",
       "    <tr>\n",
       "      <th>7</th>\n",
       "      <td>初めての受付！施術やコスメが最大半額に◎子育て応援!育産休有</td>\n",
       "    </tr>\n",
       "    <tr>\n",
       "      <th>8</th>\n",
       "      <td>【7月】未経験、歓迎！お休み相談しやすい簡単庶務◆＠トヨタ町</td>\n",
       "    </tr>\n",
       "    <tr>\n",
       "      <th>9</th>\n",
       "      <td>残業ほぼなし！未経験もOK♪豊田市駅より徒歩3分の一般事務！</td>\n",
       "    </tr>\n",
       "    <tr>\n",
       "      <th>10</th>\n",
       "      <td>【短期/日払い/1日～】来社不要〉〉〉スマホで3分登録完了◎</td>\n",
       "    </tr>\n",
       "    <tr>\n",
       "      <th>11</th>\n",
       "      <td>20代~50代の男女活躍中！昼勤のみもOKの工場内で軽作業</td>\n",
       "    </tr>\n",
       "    <tr>\n",
       "      <th>12</th>\n",
       "      <td>【即日ＯＫ】話題の『ポイ活』外出せずに自宅で稼ぐ！履歴書不要</td>\n",
       "    </tr>\n",
       "    <tr>\n",
       "      <th>13</th>\n",
       "      <td>【東芝グループ】１６時半帰り！ＯＡ事務サポートなど！</td>\n",
       "    </tr>\n",
       "    <tr>\n",
       "      <th>14</th>\n",
       "      <td>１５時退社！時短！会計ソフト入力など！駅近でアクセス抜群！</td>\n",
       "    </tr>\n",
       "    <tr>\n",
       "      <th>15</th>\n",
       "      <td>＼在宅あり／働きやすさで選ぶなら大手！メーカー未経験OK！</td>\n",
       "    </tr>\n",
       "    <tr>\n",
       "      <th>16</th>\n",
       "      <td>【7月×技術部門】ExcelやAccessを使用した事務業務＠トヨタ町</td>\n",
       "    </tr>\n",
       "    <tr>\n",
       "      <th>17</th>\n",
       "      <td>【秘書のお仕事】ご経験が活かせます◆大手ならではの福利厚生◎</td>\n",
       "    </tr>\n",
       "    <tr>\n",
       "      <th>18</th>\n",
       "      <td>【事務職】未経験も大歓迎★17時終了◎落ち着いた職場でPC作業♪</td>\n",
       "    </tr>\n",
       "    <tr>\n",
       "      <th>19</th>\n",
       "      <td>＼週1/1h~OK／《カンタン市場調査♪》完全在宅！履歴書不要◎</td>\n",
       "    </tr>\n",
       "    <tr>\n",
       "      <th>20</th>\n",
       "      <td>＼完全在宅／週1/1h~OK！家事の合間にサクッと！履歴書不要◎</td>\n",
       "    </tr>\n",
       "    <tr>\n",
       "      <th>21</th>\n",
       "      <td>[就労支援]14:30終業OK◎PC作業のサポートSTAFF/基本土日休み</td>\n",
       "    </tr>\n",
       "    <tr>\n",
       "      <th>22</th>\n",
       "      <td>【土日にガッツリ♪】馬の安全見守るお仕事☆WワークOK！</td>\n",
       "    </tr>\n",
       "  </tbody>\n",
       "</table>\n",
       "</div>"
      ],
      "text/plain": [
       "                                       題名\n",
       "0          免許取得後も練習で見直し。何回もおさらいして安心発進/運転手\n",
       "1         子育て中のママさん活躍中＊定時退社可◎/ブランクOK│製造事務\n",
       "2           無期雇用実績ありで長く働ける大手！在宅あり◆サポート事務◎\n",
       "3             ★化学品商社★正社員前提！賞与４回有り！受注処理など！\n",
       "4          時短！ピタッと１２時まで！時間の相談可能★大手で伝票処理など\n",
       "5          １７時半まで／部内書類仕分けなどの事務／未経験チャレンジＯＫ\n",
       "6          高時給2300円～＊レアな求人★憧れの有名企業でのCAD設計\n",
       "7          初めての受付！施術やコスメが最大半額に◎子育て応援!育産休有\n",
       "8          【7月】未経験、歓迎！お休み相談しやすい簡単庶務◆＠トヨタ町\n",
       "9          残業ほぼなし！未経験もOK♪豊田市駅より徒歩3分の一般事務！\n",
       "10         【短期/日払い/1日～】来社不要〉〉〉スマホで3分登録完了◎\n",
       "11          20代~50代の男女活躍中！昼勤のみもOKの工場内で軽作業\n",
       "12         【即日ＯＫ】話題の『ポイ活』外出せずに自宅で稼ぐ！履歴書不要\n",
       "13             【東芝グループ】１６時半帰り！ＯＡ事務サポートなど！\n",
       "14          １５時退社！時短！会計ソフト入力など！駅近でアクセス抜群！\n",
       "15          ＼在宅あり／働きやすさで選ぶなら大手！メーカー未経験OK！\n",
       "16    【7月×技術部門】ExcelやAccessを使用した事務業務＠トヨタ町\n",
       "17         【秘書のお仕事】ご経験が活かせます◆大手ならではの福利厚生◎\n",
       "18       【事務職】未経験も大歓迎★17時終了◎落ち着いた職場でPC作業♪\n",
       "19       ＼週1/1h~OK／《カンタン市場調査♪》完全在宅！履歴書不要◎\n",
       "20       ＼完全在宅／週1/1h~OK！家事の合間にサクッと！履歴書不要◎\n",
       "21  [就労支援]14:30終業OK◎PC作業のサポートSTAFF/基本土日休み\n",
       "22           【土日にガッツリ♪】馬の安全見守るお仕事☆WワークOK！"
      ]
     },
     "execution_count": 163,
     "metadata": {},
     "output_type": "execute_result"
    }
   ],
   "source": [
    "df"
   ]
  },
  {
   "cell_type": "code",
   "execution_count": 164,
   "id": "19ecfcca",
   "metadata": {},
   "outputs": [],
   "source": [
    "browser.quit()"
   ]
  },
  {
   "cell_type": "code",
   "execution_count": null,
   "id": "7c227363",
   "metadata": {},
   "outputs": [],
   "source": [
    "df.to"
   ]
  }
 ],
 "metadata": {
  "kernelspec": {
   "display_name": "Python 3 (ipykernel)",
   "language": "python",
   "name": "python3"
  },
  "language_info": {
   "codemirror_mode": {
    "name": "ipython",
    "version": 3
   },
   "file_extension": ".py",
   "mimetype": "text/x-python",
   "name": "python",
   "nbconvert_exporter": "python",
   "pygments_lexer": "ipython3",
   "version": "3.9.16"
  }
 },
 "nbformat": 4,
 "nbformat_minor": 5
}
